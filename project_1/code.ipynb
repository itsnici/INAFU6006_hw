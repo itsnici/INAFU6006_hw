{
 "cells": [
  {
   "cell_type": "markdown",
   "metadata": {},
   "source": [
    "# Online Retail Dataset\n",
    "\n",
    "This dataset from UCI Machine Learning Repository contains 541,909 transactions from a UK-based online retailer between December 2010 and December 2011, including information such as invoice numbers, product details, prices, and customer data. The dataset meets our assignment requirements with its appropriate size (between 1,000 and 1,000,000 rows) and numeric columns (UnitPrice, Quantity), making it ideal for analyzing price distributions and transaction patterns.\n",
    "\n",
    "- `InvoiceNo`: A unique identifier for each transaction\n",
    "- `StockCode`: Product code\n",
    "- `Description`: Product description\n",
    "- `Quantity`: The quantities of each product per transaction\n",
    "- `InvoiceDate`: The day and time when the transaction was generated\n",
    "- `UnitPrice`: Unit price in sterling\n",
    "- `CustomerID`: A unique identifier for each customer\n",
    "- `Country`: The country where the customer resides\n",
    "\n",
    "Dataset Source\n",
    "- **Download Link**: [UCI Machine Learning Repository - Online Retail Data Set](https://archive.ics.uci.edu/ml/datasets/Online+Retail)\n",
    "\n",
    "The raw data is xlsx file, I have converted it to csv file using excel.\n"
   ]
  },
  {
   "cell_type": "code",
   "execution_count": null,
   "metadata": {},
   "outputs": [],
   "source": [
    "import plotly.io as pio\n",
    "\n",
    "pio.renderers.default = \"vscode+jupyterlab+notebook_connected\"\n",
    "\n",
    "\n",
    "import pandas as pd\n",
    "from datetime import datetime"
   ]
  },
  {
   "cell_type": "markdown",
   "metadata": {},
   "source": [
    "## Data Calculation\n",
    "\n"
   ]
  },
  {
   "cell_type": "markdown",
   "metadata": {},
   "source": [
    "### Calculate the stats using pandas:\n",
    "\n",
    "In this section, we calculate the mean, median, and mode of the UnitPrice using pandas. We want to see the distribution of the prices. \n",
    "\n",
    "We want to know what prices are people buying the most?\n"
   ]
  },
  {
   "cell_type": "code",
   "execution_count": 30,
   "metadata": {},
   "outputs": [
    {
     "data": {
      "text/html": [
       "<div>\n",
       "<style scoped>\n",
       "    .dataframe tbody tr th:only-of-type {\n",
       "        vertical-align: middle;\n",
       "    }\n",
       "\n",
       "    .dataframe tbody tr th {\n",
       "        vertical-align: top;\n",
       "    }\n",
       "\n",
       "    .dataframe thead th {\n",
       "        text-align: right;\n",
       "    }\n",
       "</style>\n",
       "<table border=\"1\" class=\"dataframe\">\n",
       "  <thead>\n",
       "    <tr style=\"text-align: right;\">\n",
       "      <th></th>\n",
       "      <th>InvoiceNo</th>\n",
       "      <th>StockCode</th>\n",
       "      <th>Description</th>\n",
       "      <th>Quantity</th>\n",
       "      <th>InvoiceDate</th>\n",
       "      <th>UnitPrice</th>\n",
       "      <th>CustomerID</th>\n",
       "      <th>Country</th>\n",
       "    </tr>\n",
       "  </thead>\n",
       "  <tbody>\n",
       "    <tr>\n",
       "      <th>0</th>\n",
       "      <td>536365</td>\n",
       "      <td>85123A</td>\n",
       "      <td>WHITE HANGING HEART T-LIGHT HOLDER</td>\n",
       "      <td>6</td>\n",
       "      <td>2010/12/1 8:26</td>\n",
       "      <td>2.55</td>\n",
       "      <td>17850.0</td>\n",
       "      <td>United Kingdom</td>\n",
       "    </tr>\n",
       "    <tr>\n",
       "      <th>1</th>\n",
       "      <td>536365</td>\n",
       "      <td>71053</td>\n",
       "      <td>WHITE METAL LANTERN</td>\n",
       "      <td>6</td>\n",
       "      <td>2010/12/1 8:26</td>\n",
       "      <td>3.39</td>\n",
       "      <td>17850.0</td>\n",
       "      <td>United Kingdom</td>\n",
       "    </tr>\n",
       "    <tr>\n",
       "      <th>2</th>\n",
       "      <td>536365</td>\n",
       "      <td>84406B</td>\n",
       "      <td>CREAM CUPID HEARTS COAT HANGER</td>\n",
       "      <td>8</td>\n",
       "      <td>2010/12/1 8:26</td>\n",
       "      <td>2.75</td>\n",
       "      <td>17850.0</td>\n",
       "      <td>United Kingdom</td>\n",
       "    </tr>\n",
       "    <tr>\n",
       "      <th>3</th>\n",
       "      <td>536365</td>\n",
       "      <td>84029G</td>\n",
       "      <td>KNITTED UNION FLAG HOT WATER BOTTLE</td>\n",
       "      <td>6</td>\n",
       "      <td>2010/12/1 8:26</td>\n",
       "      <td>3.39</td>\n",
       "      <td>17850.0</td>\n",
       "      <td>United Kingdom</td>\n",
       "    </tr>\n",
       "    <tr>\n",
       "      <th>4</th>\n",
       "      <td>536365</td>\n",
       "      <td>84029E</td>\n",
       "      <td>RED WOOLLY HOTTIE WHITE HEART.</td>\n",
       "      <td>6</td>\n",
       "      <td>2010/12/1 8:26</td>\n",
       "      <td>3.39</td>\n",
       "      <td>17850.0</td>\n",
       "      <td>United Kingdom</td>\n",
       "    </tr>\n",
       "  </tbody>\n",
       "</table>\n",
       "</div>"
      ],
      "text/plain": [
       "  InvoiceNo StockCode                          Description  Quantity  \\\n",
       "0    536365    85123A   WHITE HANGING HEART T-LIGHT HOLDER         6   \n",
       "1    536365     71053                  WHITE METAL LANTERN         6   \n",
       "2    536365    84406B       CREAM CUPID HEARTS COAT HANGER         8   \n",
       "3    536365    84029G  KNITTED UNION FLAG HOT WATER BOTTLE         6   \n",
       "4    536365    84029E       RED WOOLLY HOTTIE WHITE HEART.         6   \n",
       "\n",
       "      InvoiceDate  UnitPrice  CustomerID         Country  \n",
       "0  2010/12/1 8:26       2.55     17850.0  United Kingdom  \n",
       "1  2010/12/1 8:26       3.39     17850.0  United Kingdom  \n",
       "2  2010/12/1 8:26       2.75     17850.0  United Kingdom  \n",
       "3  2010/12/1 8:26       3.39     17850.0  United Kingdom  \n",
       "4  2010/12/1 8:26       3.39     17850.0  United Kingdom  "
      ]
     },
     "execution_count": 30,
     "metadata": {},
     "output_type": "execute_result"
    }
   ],
   "source": [
    "# read the data\n",
    "df = pd.read_csv('Online Retail.csv')\n",
    "\n",
    "df = df[df['UnitPrice'] > 0]\n",
    "\n",
    "df.head()"
   ]
  },
  {
   "cell_type": "code",
   "execution_count": 31,
   "metadata": {},
   "outputs": [
    {
     "name": "stdout",
     "output_type": "stream",
     "text": [
      "Pandas analysis result:\n",
      "Average price: £4.67\n",
      "Median price: £2.08\n",
      "Mode price: £1.25\n"
     ]
    }
   ],
   "source": [
    "pandas_stats = {\n",
    "    'mean': df['UnitPrice'].mean(),\n",
    "    'median': df['UnitPrice'].median(),\n",
    "    'mode': df['UnitPrice'].mode().iloc[0]\n",
    "}\n",
    "\n",
    "print(\"Pandas analysis result:\")\n",
    "print(f\"Average price: £{pandas_stats['mean']:.2f}\")\n",
    "print(f\"Median price: £{pandas_stats['median']:.2f}\")\n",
    "print(f\"Mode price: £{pandas_stats['mode']:.2f}\")"
   ]
  },
  {
   "cell_type": "markdown",
   "metadata": {},
   "source": [
    "### Calculate the stats using standard library\n",
    "\n",
    "we solve the same problem using the standard library.\n"
   ]
  },
  {
   "cell_type": "code",
   "execution_count": 32,
   "metadata": {},
   "outputs": [
    {
     "name": "stdout",
     "output_type": "stream",
     "text": [
      "Total number of valid prices loaded: 539392\n"
     ]
    }
   ],
   "source": [
    "import csv\n",
    "\n",
    "# Read the CSV file\n",
    "prices = []\n",
    "with open('Online Retail.csv', 'r') as file:\n",
    "    csv_reader = csv.reader(file)\n",
    "    next(csv_reader)\n",
    "    for row in csv_reader:\n",
    "        try:\n",
    "            unit_price = float(row[5])\n",
    "            if unit_price > 0:\n",
    "                prices.append(unit_price)\n",
    "        except (ValueError, IndexError):\n",
    "            continue\n",
    "\n",
    "print(f\"Total number of valid prices loaded: {len(prices)}\")"
   ]
  },
  {
   "cell_type": "code",
   "execution_count": 33,
   "metadata": {},
   "outputs": [
    {
     "name": "stdout",
     "output_type": "stream",
     "text": [
      "\n",
      "Python standard library analysis result:\n",
      "Average price: £4.67\n",
      "Median price: £2.08\n",
      "Mode price: £1.25\n"
     ]
    }
   ],
   "source": [
    "\n",
    "# calculate the mean\n",
    "total = 0\n",
    "count = 0\n",
    "for price in prices:\n",
    "    total += price\n",
    "    count += 1\n",
    "mean_price = total / count\n",
    "\n",
    "\n",
    "\n",
    "# calculate the median\n",
    "prices_for_median = prices.copy()\n",
    "prices_for_median.sort()\n",
    "\n",
    "# find median\n",
    "mid = len(prices_for_median) // 2\n",
    "if len(prices_for_median) % 2 == 0:\n",
    "    median_price = (prices_for_median[mid - 1] + prices_for_median[mid]) / 2\n",
    "else:\n",
    "    median_price = prices_for_median[mid]\n",
    "\n",
    "\n",
    "# calculate the mode\n",
    "price_counts = {}\n",
    "max_count = 0\n",
    "mode_price = None\n",
    "for price in prices:\n",
    "    if price not in price_counts:\n",
    "        price_counts[price] = 1\n",
    "    else:\n",
    "        price_counts[price] += 1\n",
    "    \n",
    "    if price_counts[price] > max_count:\n",
    "        max_count = price_counts[price]\n",
    "        mode_price = price\n",
    "        \n",
    "\n",
    "print(\"\\nPython standard library analysis result:\")\n",
    "print(f\"Average price: £{mean_price:.2f}\")\n",
    "print(f\"Median price: £{median_price:.2f}\")\n",
    "print(f\"Mode price: £{mode_price:.2f}\")"
   ]
  },
  {
   "cell_type": "markdown",
   "metadata": {},
   "source": [
    "## Data Visualization and Analysis"
   ]
  },
  {
   "cell_type": "markdown",
   "metadata": {},
   "source": [
    "We visualize the distribution of the prices."
   ]
  },
  {
   "cell_type": "code",
   "execution_count": 38,
   "metadata": {},
   "outputs": [
    {
     "name": "stdout",
     "output_type": "stream",
     "text": [
      "\n",
      "Price distribution chart:\n",
      "£0.00-£3897.00       | ****************************** (539349)\n",
      "£3897.00-£7794.00    |  (30)\n",
      "£7794.00-£11691.00   |  (5)\n",
      "£11691.00-£15588.00  |  (4)\n",
      "£15588.00-£19485.00  |  (3)\n",
      "£19485.00-£23382.00  |  (0)\n",
      "£23382.00-£27279.00  |  (0)\n",
      "£27279.00-£31176.00  |  (0)\n",
      "£31176.00-£35073.00  |  (0)\n",
      "£35073.00-£38970.00  |  (0)\n"
     ]
    }
   ],
   "source": [
    "def create_price_distribution_viz(prices, max_prics=-1, bins=10):\n",
    "    if max_prics == -1:\n",
    "        max_price = max(prices)\n",
    "    else:\n",
    "        max_price = max_prics\n",
    "    \n",
    "    bin_size = max_price / bins\n",
    "    \n",
    "    # count the number of items in each interval\n",
    "    price_ranges = {}\n",
    "    for price in prices:\n",
    "        if price < max_price:\n",
    "            bin_index = int(price / bin_size)\n",
    "            price_ranges[bin_index] = price_ranges.get(bin_index, 0) + 1\n",
    "    \n",
    "    # find the max count to determine the scale factor\n",
    "    max_count = max(price_ranges.values())\n",
    "    scale_factor = 30 / max_count # 30 stars\n",
    "    \n",
    "    print(\"\\nPrice distribution chart:\")\n",
    "    for bin_num in range(bins):\n",
    "        count = price_ranges.get(bin_num, 0)\n",
    "        stars = int(count * scale_factor)\n",
    "        price_range = f\"£{bin_num*bin_size:.2f}-£{(bin_num+1)*bin_size:.2f}\"\n",
    "        print(f\"{price_range:20} | {'*' * stars} ({count})\")\n",
    "\n",
    "create_price_distribution_viz(prices)\n"
   ]
  },
  {
   "cell_type": "markdown",
   "metadata": {},
   "source": [
    "The data shows that the vast majority (99.99%) of products are priced within the £0-£3897 range."
   ]
  },
  {
   "cell_type": "code",
   "execution_count": 39,
   "metadata": {},
   "outputs": [
    {
     "name": "stdout",
     "output_type": "stream",
     "text": [
      "\n",
      "Price distribution chart:\n",
      "£0.00-£1.00          | *********************** (112153)\n",
      "£1.00-£2.00          | ****************************** (140763)\n",
      "£2.00-£3.00          | ********************* (102589)\n",
      "£3.00-£4.00          | ******** (39613)\n",
      "£4.00-£5.00          | *********** (56265)\n",
      "£5.00-£6.00          | **** (19256)\n",
      "£6.00-£7.00          | * (7160)\n",
      "£7.00-£8.00          | ** (13062)\n",
      "£8.00-£9.00          | *** (16587)\n",
      "£9.00-£10.00         | * (6906)\n"
     ]
    }
   ],
   "source": [
    "create_price_distribution_viz(prices, max_prics=10)\n"
   ]
  },
  {
   "cell_type": "markdown",
   "metadata": {},
   "source": [
    "Due to the long-tail distribution shown earlier, it was difficult to see the detailed comparison between price groups. Therefore, we visualized the price distribution for the £0-£10 range.\n",
    "\n",
    "Most products are priced between £0-£3, with the £1-£2 range being the most common price point."
   ]
  }
 ],
 "metadata": {
  "kernelspec": {
   "display_name": "MLenv",
   "language": "python",
   "name": "python3"
  },
  "language_info": {
   "codemirror_mode": {
    "name": "ipython",
    "version": 3
   },
   "file_extension": ".py",
   "mimetype": "text/x-python",
   "name": "python",
   "nbconvert_exporter": "python",
   "pygments_lexer": "ipython3",
   "version": "3.11.9"
  }
 },
 "nbformat": 4,
 "nbformat_minor": 2
}
